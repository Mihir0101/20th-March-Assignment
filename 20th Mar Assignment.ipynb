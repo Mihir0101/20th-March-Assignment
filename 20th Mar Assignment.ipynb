{
 "cells": [
  {
   "cell_type": "markdown",
   "id": "1916e5b8-5a7f-4db2-9e91-1db89df861a8",
   "metadata": {},
   "source": [
    "# 20th March Assignment"
   ]
  },
  {
   "cell_type": "code",
   "execution_count": null,
   "id": "eb051e41-19ac-43ff-aca1-d4f00e113c45",
   "metadata": {},
   "outputs": [],
   "source": []
  },
  {
   "cell_type": "markdown",
   "id": "ac6c6432-b99a-4b38-9825-6711193b5669",
   "metadata": {},
   "source": [
    "## Q1. What is data encoding? How is it useful in data science?"
   ]
  },
  {
   "cell_type": "markdown",
   "id": "c2b0c678-62a5-4e5f-92e6-f35589de5c9b",
   "metadata": {},
   "source": [
    "-> Data encoding is an technique of feature engineering to convert categorical data into numerical data.\n",
    "\n",
    "-> It is very usefull in machine learning.\n",
    "\n",
    "-> Machines can't understand the categorical data, so for solve this problem we can get use of data encoding.\n",
    "\n",
    "-> There is four types of data encoding.\n",
    "\n",
    "   1. Nominal or One Hot Encoding\n",
    "   \n",
    "   2. Label Encoding\n",
    "   \n",
    "   3. Ordinal Encoding\n",
    "   \n",
    "   4. Target Guided Ordinal Encoding"
   ]
  },
  {
   "cell_type": "code",
   "execution_count": null,
   "id": "34364e45-0bbe-4498-881f-16bd56ccc156",
   "metadata": {},
   "outputs": [],
   "source": []
  },
  {
   "cell_type": "markdown",
   "id": "db2619fc-903b-494f-8217-11637c929270",
   "metadata": {},
   "source": [
    "## Q2. What is nominal encoding? Provide an example of how you would use it in a real-world scenario."
   ]
  },
  {
   "cell_type": "markdown",
   "id": "e66d800b-758b-486f-9a86-a4dd06cc8cf4",
   "metadata": {},
   "source": [
    "-> Nominal encoding is an type of data encoding.\n",
    "\n",
    "-> It returns sparse matrix as an output.\n",
    "\n",
    "-> Nominal encoding creats an format in which, it creats different feature of unique categories.\n",
    "\n",
    "-> If specific category has presense so it get 1 and other category get 0.\n",
    "\n",
    "* Example\n",
    "\n",
    "-> Let suppose we are working on an machine learning project.In this project we ask students which course are they pursuing.\n",
    "\n",
    "-> It has an data in which there is three different categories B.tech,BCA,BBA .\n",
    "\n",
    "-> We have to ask an student which course he/she/other pursuing,if he/she/other pursing BCA so BCA will get 1 and other two(B.Tech,BBA) categories will get 0.\n",
    "\n",
    "-> After that with the help of this data we can creat an machine learning model that can predinct easily."
   ]
  },
  {
   "cell_type": "code",
   "execution_count": null,
   "id": "c796d091-dfa9-481c-a7ce-1e0284c7d8fa",
   "metadata": {},
   "outputs": [],
   "source": []
  },
  {
   "cell_type": "markdown",
   "id": "301526f4-b615-4098-8398-cee3e815d6ac",
   "metadata": {},
   "source": [
    "## Q3. In what situations is nominal encoding preferred over one-hot encoding? Provide a practical example."
   ]
  },
  {
   "cell_type": "markdown",
   "id": "0d173409-e304-4a0f-ab9b-e89d2126b098",
   "metadata": {},
   "source": [
    "-> There is only one main reason where we should choose nominal encoding over one hot encoding.\n",
    "\n",
    "-> If any data consist multiple categories so for that in one hot encoding we have to creat multiple feature that is time and memory consuming.\n",
    "\n",
    "-> So with the help of nominal encoding we can easily perform our task."
   ]
  },
  {
   "cell_type": "markdown",
   "id": "d25e3881-ebbe-49d4-ae7f-3e49308bd959",
   "metadata": {},
   "source": [
    "* Example\n",
    "\n",
    "-> Let's consider a dataset that contains information about people's education level, where the education level is represented by categorical values such as \"High School,\" \"Bachelor's Degree,\" \"Master's Degree,\" and \"Ph.D.\" Since education level typically follows an ordinal order (i.e., High School < Bachelor's Degree < Master's Degree < Ph.D.), using nominal encoding in this case would be appropriate."
   ]
  },
  {
   "cell_type": "code",
   "execution_count": null,
   "id": "cb5d6b32-2675-4605-a0b4-e6d1498adbc7",
   "metadata": {},
   "outputs": [],
   "source": []
  },
  {
   "cell_type": "markdown",
   "id": "0149d159-52cf-4ba4-9be9-4c8a77c85e27",
   "metadata": {},
   "source": [
    "## Q4. Suppose you have a dataset containing categorical data with 5 unique values. Which encoding technique would you use to transform this data into a format suitable for machine learning algorithms? Explain why you made this choice.\n",
    "\n"
   ]
  },
  {
   "cell_type": "markdown",
   "id": "fac99ca8-3e06-40fb-bc4b-b0b549138a85",
   "metadata": {},
   "source": [
    "* Which encoding technique would you use to transform this data into a format suitable for machine learning algorithms? \n",
    "\n",
    "1. Nominal or Label Encoding\n",
    "\n",
    "2. Target Oriented Encoding"
   ]
  },
  {
   "cell_type": "markdown",
   "id": "612d7e3b-4d7d-42a1-8151-cd7cd1207167",
   "metadata": {},
   "source": [
    "* Explain why you made this choice?"
   ]
  },
  {
   "cell_type": "markdown",
   "id": "4573ae8f-d7c3-418b-9c16-703bf61cc7b0",
   "metadata": {},
   "source": [
    "1. Nominal or Label Encoding : This type of encoding gives all categories unique integer.ThaSo because of that our data becomes very easy for any algorith to understand.\n",
    "\n",
    "2. Target Oriented Encoding : If our idependent category has strong relationship with target data,so this encoding is best for us."
   ]
  },
  {
   "cell_type": "code",
   "execution_count": null,
   "id": "6ba36842-e362-476d-b658-02fe0d9d2a2b",
   "metadata": {},
   "outputs": [],
   "source": []
  },
  {
   "cell_type": "markdown",
   "id": "6b49926e-0056-4d1d-8828-5c75aa9f566e",
   "metadata": {},
   "source": [
    "## Q5. In a machine learning project, you have a dataset with 1000 rows and 5 columns. Two of the columns are categorical, and the remaining three columns are numerical. If you were to use nominal encoding to transform the categorical data, how many new columns would be created? Show your calculations.\n",
    "\n"
   ]
  },
  {
   "cell_type": "markdown",
   "id": "bf81e181-1b3b-427e-a166-640738059bc3",
   "metadata": {},
   "source": [
    "-> The number of new columns is depends uppon how many unique category an column has.\n",
    "\n",
    "-> Let's assume every unique category as k, and there is two columns so it becomes 2k.\n",
    "\n",
    "-> There are three numeric columns also.\n",
    "\n",
    "-> Total columns = 3 + 2k"
   ]
  },
  {
   "cell_type": "code",
   "execution_count": null,
   "id": "87f1b138-4bbc-4a6b-a64a-77430584b7f4",
   "metadata": {},
   "outputs": [],
   "source": []
  },
  {
   "cell_type": "markdown",
   "id": "9e6077fd-5491-42b6-a928-315592c55ddc",
   "metadata": {},
   "source": [
    "## Q6. You are working with a dataset containing information about different types of animals, including their species, habitat, and diet. Which encoding technique would you use to transform the categorical data into a format suitable for machine learning algorithms? Justify your answer.\n",
    "\n"
   ]
  },
  {
   "cell_type": "markdown",
   "id": "4c4e87af-5301-4e16-9381-c1b9908e0575",
   "metadata": {},
   "source": [
    "* With the help of one hot encoding and label encoding we can easily transform the categorical data into a format suitable for machine learning algorithms."
   ]
  },
  {
   "cell_type": "markdown",
   "id": "8d967edb-09d8-4a6d-991e-9d2a63bd978e",
   "metadata": {},
   "source": [
    "1. species \n",
    "\n",
    "-> For this categorical data we can get use of one hot encoding.It creats binary formate.\n",
    "\n",
    "-> It assigns 1 to present category and 0  to absent category.\n",
    "\n",
    "-> If any specie is present ,so it will assign 1 and 0 to other species.\n",
    "\n",
    "2. Habitat\n",
    "\n",
    "-> Habitat contains low unique categories.\n",
    "\n",
    "-> We can get use of label encoding for this type of data.\n",
    "\n",
    "-> It wiil assign unique interger to every unique category."
   ]
  },
  {
   "cell_type": "code",
   "execution_count": null,
   "id": "86ba5210-657c-41cc-9e76-65ff6efb98e7",
   "metadata": {},
   "outputs": [],
   "source": []
  },
  {
   "cell_type": "markdown",
   "id": "36335715-1ae0-44f3-bd76-7e3e7dacb869",
   "metadata": {},
   "source": [
    "## Q7.You are working on a project that involves predicting customer churn for a telecommunications company. You have a dataset with 5 features, including the customer's gender, age, contract type,monthly charges, and tenure. Which encoding technique(s) would you use to transform the categorical data into numerical data? Provide a step-by-step explanation of how you would implement the encoding.\n",
    "\n",
    "\n"
   ]
  },
  {
   "cell_type": "markdown",
   "id": "5da204d8-a359-435b-ad68-8fbf9dafce1f",
   "metadata": {},
   "source": [
    "* Techniques\n",
    "\n",
    "1. Label Encoding\n",
    "\n",
    "2. One Hot Encoding"
   ]
  },
  {
   "cell_type": "markdown",
   "id": "a5c740fc-66c9-49f0-9c4d-2ffad0c178a4",
   "metadata": {},
   "source": [
    "* Inplementation\n",
    "\n",
    "-> If the categories have nature of ranking so we will use ordinal encoding and if it has no nature of ranking so we will use nominal encoding.\n",
    "\n",
    "-> We can also use label encoding.\n",
    "\n",
    "-> Gender : We can use nominal encoding.Cause it contains binary data.(Male/Femal)\n",
    "\n",
    "-> Contract Type : Contract type is an ordinal data,so with the help of label encoding we can assign them unique interger values.\n",
    "\n",
    "                Example :\n",
    "                   \n",
    "                Monthly = 0\n",
    "                \n",
    "                Year = 1\n",
    "                   \n",
    "                Two Year = 2"
   ]
  },
  {
   "cell_type": "code",
   "execution_count": null,
   "id": "16163042-efc8-4208-a7cb-365ad666f281",
   "metadata": {},
   "outputs": [],
   "source": []
  }
 ],
 "metadata": {
  "kernelspec": {
   "display_name": "Python 3 (ipykernel)",
   "language": "python",
   "name": "python3"
  },
  "language_info": {
   "codemirror_mode": {
    "name": "ipython",
    "version": 3
   },
   "file_extension": ".py",
   "mimetype": "text/x-python",
   "name": "python",
   "nbconvert_exporter": "python",
   "pygments_lexer": "ipython3",
   "version": "3.10.8"
  }
 },
 "nbformat": 4,
 "nbformat_minor": 5
}
